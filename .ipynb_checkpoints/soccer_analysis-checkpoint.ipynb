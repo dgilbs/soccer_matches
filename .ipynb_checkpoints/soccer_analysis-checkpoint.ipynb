{
 "cells": [
  {
   "cell_type": "code",
   "execution_count": 2,
   "metadata": {},
   "outputs": [],
   "source": [
    "import pandas as pd\n",
    "import pymysql\n",
    "import sqlite3\n",
    "import matplotlib.pyplot as plt\n",
    "%matplotlib inline"
   ]
  },
  {
   "cell_type": "code",
   "execution_count": 3,
   "metadata": {},
   "outputs": [],
   "source": [
    "pd.set_option('display.max_columns', 100)\n",
    "pd.set_option('display.max_rows', 150)"
   ]
  },
  {
   "cell_type": "code",
   "execution_count": 5,
   "metadata": {},
   "outputs": [],
   "source": [
    "connection = sqlite3.connect(\"/Users/danielgilberg/data_science/soccer_matches_project/database.sqlite\")"
   ]
  },
  {
   "cell_type": "code",
   "execution_count": 6,
   "metadata": {},
   "outputs": [],
   "source": [
    "c = connection.cursor()"
   ]
  },
  {
   "cell_type": "code",
   "execution_count": 7,
   "metadata": {},
   "outputs": [],
   "source": [
    "match_query = '''SELECT * FROM match'''\n",
    "match_df = pd.read_sql(match_query, connection)"
   ]
  },
  {
   "cell_type": "code",
   "execution_count": 8,
   "metadata": {},
   "outputs": [],
   "source": [
    "country_query = '''SELECT * FROM country'''\n",
    "country_df = pd.read_sql(country_query, connection)"
   ]
  },
  {
   "cell_type": "code",
   "execution_count": 9,
   "metadata": {},
   "outputs": [],
   "source": [
    "league_query = '''SELECT * FROM league'''\n",
    "league_df = pd.read_sql(league_query, connection)"
   ]
  },
  {
   "cell_type": "code",
   "execution_count": 10,
   "metadata": {},
   "outputs": [],
   "source": [
    "team_query = '''SELECT * FROM team'''\n",
    "team_df = pd.read_sql(team_query, connection)"
   ]
  },
  {
   "cell_type": "code",
   "execution_count": 11,
   "metadata": {},
   "outputs": [],
   "source": [
    "player_query = '''SELECT * FROM player'''\n",
    "player_df = pd.read_sql(player_query, connection)"
   ]
  },
  {
   "cell_type": "code",
   "execution_count": 12,
   "metadata": {},
   "outputs": [],
   "source": [
    "player_atts_query = '''SELECT * FROM Player_Attributes'''\n",
    "player_atts_df = pd.read_sql(player_atts_query, connection)"
   ]
  },
  {
   "cell_type": "code",
   "execution_count": null,
   "metadata": {},
   "outputs": [],
   "source": [
    "team_atts_query = '''SELECT * FROM '''"
   ]
  },
  {
   "cell_type": "code",
   "execution_count": 13,
   "metadata": {},
   "outputs": [
    {
     "ename": "NameError",
     "evalue": "name 'team_atts_df' is not defined",
     "output_type": "error",
     "traceback": [
      "\u001b[0;31m---------------------------------------------------------------------------\u001b[0m",
      "\u001b[0;31mNameError\u001b[0m                                 Traceback (most recent call last)",
      "\u001b[0;32m<ipython-input-13-fe220e184aeb>\u001b[0m in \u001b[0;36m<module>\u001b[0;34m()\u001b[0m\n\u001b[1;32m      9\u001b[0m \u001b[0;34m\u001b[0m\u001b[0m\n\u001b[1;32m     10\u001b[0m \u001b[0;34m\u001b[0m\u001b[0m\n\u001b[0;32m---> 11\u001b[0;31m \u001b[0mtemp\u001b[0m \u001b[0;34m=\u001b[0m \u001b[0msoccerData\u001b[0m\u001b[0;34m(\u001b[0m\u001b[0mmatch_df\u001b[0m\u001b[0;34m,\u001b[0m \u001b[0mcountry_df\u001b[0m\u001b[0;34m,\u001b[0m \u001b[0mteam_df\u001b[0m\u001b[0;34m,\u001b[0m \u001b[0mplayer_df\u001b[0m\u001b[0;34m,\u001b[0m \u001b[0mteam_atts_df\u001b[0m\u001b[0;34m,\u001b[0m \u001b[0mplayer_atts_df\u001b[0m\u001b[0;34m)\u001b[0m\u001b[0;34m\u001b[0m\u001b[0m\n\u001b[0m",
      "\u001b[0;31mNameError\u001b[0m: name 'team_atts_df' is not defined"
     ]
    }
   ],
   "source": [
    "class soccerData(object):\n",
    "    def __init__(self, match_query, country_df, team_df, player_df, team_atts_df, player_atts_df):\n",
    "        self.match_df = match_df\n",
    "        self.country_df = country_df\n",
    "        self.team_df = team_df\n",
    "        self.player_df = player_df\n",
    "        self.team_atts_df = team_atts_df\n",
    "        self.player_atts_df = player_atts_df\n",
    "\n",
    "\n",
    "temp = soccerData(match_df, country_df, team_df, player_df, team_atts_df, player_atts_df)"
   ]
  },
  {
   "cell_type": "code",
   "execution_count": null,
   "metadata": {},
   "outputs": [],
   "source": []
  }
 ],
 "metadata": {
  "kernelspec": {
   "display_name": "Python 3",
   "language": "python",
   "name": "python3"
  },
  "language_info": {
   "codemirror_mode": {
    "name": "ipython",
    "version": 3
   },
   "file_extension": ".py",
   "mimetype": "text/x-python",
   "name": "python",
   "nbconvert_exporter": "python",
   "pygments_lexer": "ipython3",
   "version": "3.6.2"
  }
 },
 "nbformat": 4,
 "nbformat_minor": 2
}
